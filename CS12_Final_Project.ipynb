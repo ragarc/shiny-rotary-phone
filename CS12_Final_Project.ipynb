{
  "nbformat": 4,
  "nbformat_minor": 0,
  "metadata": {
    "colab": {
      "provenance": [],
      "authorship_tag": "ABX9TyNxFp7itKpRDjdAa61N8Aq2",
      "include_colab_link": true
    },
    "kernelspec": {
      "name": "python3",
      "display_name": "Python 3"
    },
    "language_info": {
      "name": "python"
    }
  },
  "cells": [
    {
      "cell_type": "markdown",
      "metadata": {
        "id": "view-in-github",
        "colab_type": "text"
      },
      "source": [
        "<a href=\"https://colab.research.google.com/github/ragarc/shiny-rotary-phone/blob/main/CS12_Final_Project.ipynb\" target=\"_parent\"><img src=\"https://colab.research.google.com/assets/colab-badge.svg\" alt=\"Open In Colab\"/></a>"
      ]
    },
    {
      "cell_type": "code",
      "execution_count": 1,
      "metadata": {
        "id": "m1YqzlpOCXNw"
      },
      "outputs": [],
      "source": [
        "import numpy as np\n",
        "import matplotlib.pyplot as plt\n",
        "import tensorflow.keras.datasets.mnist as dataa\n",
        "from keras.utils import np_utils"
      ]
    },
    {
      "cell_type": "code",
      "source": [
        "(train_images, train_labels), (test_images,test_labels) = dataa.load_data()\n",
        "train_images = np.reshape(train_images, (60000, 784)) / 255\n",
        "test_images = np.reshape(test_images, (10000, 784)) / 255\n",
        "Y_train = np_utils.to_categorical(train_labels,10)\n",
        "Y_test = np_utils.to_categorical(test_labels,10)"
      ],
      "metadata": {
        "id": "hn73NRNiUwUm",
        "colab": {
          "base_uri": "https://localhost:8080/"
        },
        "outputId": "1c1d26f2-588c-43cc-e82c-51b0dfa39d8b"
      },
      "execution_count": 2,
      "outputs": [
        {
          "output_type": "stream",
          "name": "stdout",
          "text": [
            "Downloading data from https://storage.googleapis.com/tensorflow/tf-keras-datasets/mnist.npz\n",
            "11490434/11490434 [==============================] - 0s 0us/step\n"
          ]
        }
      ]
    },
    {
      "cell_type": "code",
      "source": [
        "def draw(img):\n",
        "  plt.matshow(img, cmap='gray')\n",
        "  plt.show()"
      ],
      "metadata": {
        "id": "5VkenLicKYkT"
      },
      "execution_count": 3,
      "outputs": []
    },
    {
      "cell_type": "code",
      "source": [
        "def relu(x):\n",
        "  #return 1/(1+np.exp(-x))\n",
        "  return np.maximum(x,0)\n",
        "\n",
        "lol = lambda x: 1 if x > 0 else 0\n",
        "\n",
        "drelu = np.vectorize(lol)\n",
        "#def drelu(x):\n",
        "#  return np.exp(-x)/np.power(1+np.exp(-2),2)"
      ],
      "metadata": {
        "id": "AQfm3rwQVPz3"
      },
      "execution_count": 4,
      "outputs": []
    },
    {
      "cell_type": "code",
      "source": [
        "def convolution(inpt, kernel):\n",
        "  kx = (kernel.shape[0])\n",
        "  ky = (kernel.shape[1])\n",
        "  sz = (inpt.shape[0] - kx + 1, inpt.shape[1] - ky + 1)\n",
        "  out = np.zeros(sz)\n",
        "  print(out.shape)\n",
        "  i = 0\n",
        "  j = 0\n",
        "  while i < sz[0]:\n",
        "    j = 0\n",
        "    while j < sz[1]:\n",
        "      prod = inpt[i:kx+i, j:ky+j] * kernel\n",
        "      out[i,j] = np.sum(prod)\n",
        "      j += 1\n",
        "    i += 1\n",
        "  return out"
      ],
      "metadata": {
        "id": "4u-6BmUSKdq8"
      },
      "execution_count": 5,
      "outputs": []
    },
    {
      "cell_type": "code",
      "source": [
        "class dense_net:\n",
        "  # shape is a tuple containing the size of each hidden layer,\n",
        "  # shape[0] = size of input\n",
        "  # shape[-1] = size of output\n",
        "  def __init__(self, shp, learning_rate=0.6):\n",
        "    self.weights = []\n",
        "    self.bias = []\n",
        "    self.shape = shp\n",
        "    self.l = len(shp)\n",
        "    self.z = []\n",
        "    self.z.append(np.zeros((shp[0],1)))\n",
        "    self.n_o_params = 0\n",
        "    for i in range(self.l-1):\n",
        "      self.n_o_params += shp[i]*shp[i+1]\n",
        "    self.learning_rate = learning_rate\n",
        "    for i in range(len(shp)-1):\n",
        "      self.weights.append(np.random.rand(shp[i+1], shp[i])-.5)\n",
        "      self.bias.append(np.random.rand(shp[i+1],1)-.5)\n",
        "      self.z.append(np.zeros((shp[i+1],1)))\n",
        "    \n",
        "  def predict(self, input_vec):\n",
        "    inpt = input_vec.reshape(self.shape[0],1)\n",
        "    self.z[0] = np.copy(inpt)\n",
        "    for i in range(self.l-1):\n",
        "      #print(self.z[i])      \n",
        "      self.z[i+1] = (np.matmul(self.weights[i], relu(self.z[i])) + self.bias[i])\n",
        "    \n",
        "    return relu(self.z[-1])\n",
        "\n",
        "  def backprop(self, input_vec, label, weight_slots, bias_slots):\n",
        "    # First do weight backpropagation\n",
        "    w_gradients = []\n",
        "    b_gradients = []\n",
        "\n",
        "    y = np.array(label).reshape((self.shape[-1],1))\n",
        "    out = self.predict(input_vec)\n",
        "\n",
        "    #print(drelu(self.z[-1]))\n",
        "    #print((y - out))\n",
        "    delta = drelu(self.z[-1]) * (y - out)\n",
        "    #print(delta)\n",
        "    lyr = self.l - 2\n",
        "    i = 0\n",
        "    while lyr >= 0:\n",
        "      # print(self.z[lyr])\n",
        "      # print(self.weights[lyr])\n",
        "      # print(delta)\n",
        "      #print(lyr)\n",
        "      #w_gradients.append(np.matmul(delta, relu(self.z[lyr]).transpose()))\n",
        "      weight_slots[i] += np.matmul(delta, relu(self.z[lyr]).transpose())\n",
        "      #print(\"weight inside backprop: \", weight_slots[i])\n",
        "      #b_gradients.append(delta)\n",
        "      bias_slots[i] += delta\n",
        "\n",
        "      delta = drelu(self.z[lyr]) * np.matmul(self.weights[lyr].transpose(), delta)\n",
        "      lyr -= 1\n",
        "      i += 1\n",
        "    #return (w_gradients, b_gradients)\n",
        "  \n",
        "  def train(self, data, labels, batch_size=50):\n",
        "    w_g = []\n",
        "    b_g = []\n",
        "    out = []\n",
        "    #print(self.shape)\n",
        "    #print(self.l)\n",
        "    for i in range(self.l-1,0,-1):\n",
        "      #print(i)\n",
        "      w_g.append(np.zeros((self.shape[i], self.shape[i-1])))\n",
        "      b_g.append(np.zeros((self.shape[i],1)))\n",
        "\n",
        "    #print(w_g)\n",
        "    #print(b_g)\n",
        "    err = 0\n",
        "    for i in range(len(data)):\n",
        "      self.backprop(data[i], labels[i], w_g, b_g)\n",
        "      err += self.loss(data[i], labels[i])\n",
        "      #print(err)\n",
        "      #print(w_g)\n",
        "      #print(b_g)\n",
        "      if i % batch_size == 0:\n",
        "        print(\"the batch error is: \", err/batch_size)\n",
        "        out.append(err/batch_size)\n",
        "        for j in range(self.l-1):\n",
        "          #print(self.weights[j])\n",
        "          #print(w_g[self.l-2-j])\n",
        "          self.weights[j] += w_g[self.l-2-j]*(self.learning_rate / batch_size)\n",
        "          self.bias[j] += b_g[self.l-2-j]*(self.learning_rate / batch_size)\n",
        "\n",
        "          w_g[self.l-2-j] -= w_g[self.l-2-j]\n",
        "          b_g[self.l-2-j] -= b_g[self.l-2-j]\n",
        "        err = 0\n",
        "    return out\n",
        "\n",
        "  def loss(self, test, label):\n",
        "    y = np.array(label).reshape((self.shape[-1],1))\n",
        "    results = (self.predict(test) - y).reshape(self.shape[-1])\n",
        "    return np.dot(results, results)\n",
        "\n",
        "    "
      ],
      "metadata": {
        "id": "KZXsPPukCnKs"
      },
      "execution_count": 16,
      "outputs": []
    },
    {
      "cell_type": "code",
      "source": [
        "n = dense_net((2,4,2))"
      ],
      "metadata": {
        "id": "4yF_9jw6ghqI"
      },
      "execution_count": 17,
      "outputs": []
    },
    {
      "cell_type": "code",
      "source": [
        "data = np.random.rand(10000,2)\n",
        "labels = []\n",
        "for i in data:\n",
        "  if max(i[1],i[0]) < 0.6:\n",
        "    labels.append([0,1])\n",
        "  else:\n",
        "    labels.append([1,0])\n",
        "lol = np.array(labels)"
      ],
      "metadata": {
        "id": "SiGgeynigxfK"
      },
      "execution_count": 18,
      "outputs": []
    },
    {
      "cell_type": "code",
      "source": [
        "plt.scatter(data[:,0], data[:,1], c=lol[:,0])"
      ],
      "metadata": {
        "id": "1nQ_OsLpqElA",
        "colab": {
          "base_uri": "https://localhost:8080/",
          "height": 282
        },
        "outputId": "397ce12a-18db-4b3e-dfe2-ee35cc2a6755"
      },
      "execution_count": 19,
      "outputs": [
        {
          "output_type": "execute_result",
          "data": {
            "text/plain": [
              "<matplotlib.collections.PathCollection at 0x7f15292848b0>"
            ]
          },
          "metadata": {},
          "execution_count": 19
        },
        {
          "output_type": "display_data",
          "data": {
            "text/plain": [
              "<Figure size 432x288 with 1 Axes>"
            ],
            "image/png": "[encoded data removed]"
          },
          "metadata": {
            "needs_background": "light"
          }
        }
      ]
    },
    {
      "cell_type": "code",
      "source": [
        "u = []\n",
        "for i in range(1):\n",
        "#  u = (n.train(train_images, Y_train, 10))\n",
        "    n.train(data, lol)"
      ],
      "metadata": {
        "colab": {
          "base_uri": "https://localhost:8080/"
        },
        "id": "VvD6nTKCoeGg",
        "outputId": "2968ab57-baaa-4231-c371-75977a33f9d1"
      },
      "execution_count": 20,
      "outputs": [
        {
          "output_type": "stream",
          "name": "stdout",
          "text": [
            "the batch error is:  0.016393920728078618\n",
            "the batch error is:  0.638551278879879\n",
            "the batch error is:  0.4963177223638918\n",
            "the batch error is:  0.511106425286341\n",
            "the batch error is:  0.36689412918728925\n",
            "the batch error is:  0.31475574959029423\n",
            "the batch error is:  0.4952967080577447\n",
            "the batch error is:  0.4711653334185699\n",
            "the batch error is:  0.3797178315442648\n",
            "the batch error is:  0.3933059540153339\n",
            "the batch error is:  0.3568088643738909\n",
            "the batch error is:  0.4737776427130853\n",
            "the batch error is:  0.3852358238069788\n",
            "the batch error is:  0.30463978776991363\n",
            "the batch error is:  0.37572078934288305\n",
            "the batch error is:  0.36583587767757764\n",
            "the batch error is:  0.3373316663383498\n",
            "the batch error is:  0.33153787798628725\n",
            "the batch error is:  0.32320325003196565\n",
            "the batch error is:  0.33811412259909185\n",
            "the batch error is:  0.33113466566444283\n",
            "the batch error is:  0.4844936016606352\n",
            "the batch error is:  0.8287137995318564\n",
            "the batch error is:  0.693368084464748\n",
            "the batch error is:  0.2611271721239435\n",
            "the batch error is:  0.247116580329249\n",
            "the batch error is:  0.22078118463811067\n",
            "the batch error is:  0.2494982594649025\n",
            "the batch error is:  0.25868660947761607\n",
            "the batch error is:  0.31521249539708035\n",
            "the batch error is:  0.37479706526617723\n",
            "the batch error is:  0.28750177477393807\n",
            "the batch error is:  0.35856109419886856\n",
            "the batch error is:  0.3540149376187607\n",
            "the batch error is:  0.32648077947463233\n",
            "the batch error is:  0.31994414403121046\n",
            "the batch error is:  0.259844435155572\n",
            "the batch error is:  0.18600232108933504\n",
            "the batch error is:  0.24896694834739821\n",
            "the batch error is:  0.21382016078801147\n",
            "the batch error is:  0.2044233021387365\n",
            "the batch error is:  0.17667614818133032\n",
            "the batch error is:  0.22948260957865174\n",
            "the batch error is:  0.24962651414045856\n",
            "the batch error is:  0.24743685564788595\n",
            "the batch error is:  0.29179985657798385\n",
            "the batch error is:  0.36744822530696125\n",
            "the batch error is:  0.3247569387282583\n",
            "the batch error is:  0.33802365030752335\n",
            "the batch error is:  0.2752253506762788\n",
            "the batch error is:  0.3066863872803935\n",
            "the batch error is:  0.1389771067100536\n",
            "the batch error is:  0.23394007323626778\n",
            "the batch error is:  0.2346523214945025\n",
            "the batch error is:  0.22184678726189994\n",
            "the batch error is:  0.21264212026518917\n",
            "the batch error is:  0.22637357113881812\n",
            "the batch error is:  0.27128222723327944\n",
            "the batch error is:  0.4900725802660296\n",
            "the batch error is:  0.5760797530366659\n",
            "the batch error is:  0.29344463096766205\n",
            "the batch error is:  0.29489420464101185\n",
            "the batch error is:  0.1927637896110725\n",
            "the batch error is:  0.27335259956302665\n",
            "the batch error is:  0.19606231604874513\n",
            "the batch error is:  0.24803124243020241\n",
            "the batch error is:  0.293670489418389\n",
            "the batch error is:  0.3595635230442184\n",
            "the batch error is:  0.271759748059731\n",
            "the batch error is:  0.2747339930417784\n",
            "the batch error is:  0.2458044477612491\n",
            "the batch error is:  0.1894807897009878\n",
            "the batch error is:  0.24124150053494364\n",
            "the batch error is:  0.19986744599844247\n",
            "the batch error is:  0.2500443774308941\n",
            "the batch error is:  0.12086180755384422\n",
            "the batch error is:  0.2731934800935197\n",
            "the batch error is:  0.27657202003559866\n",
            "the batch error is:  0.29300427124095046\n",
            "the batch error is:  0.32474634304395034\n",
            "the batch error is:  0.23557987711188053\n",
            "the batch error is:  0.19972597716429882\n",
            "the batch error is:  0.14732269014027158\n",
            "the batch error is:  0.2313530661011857\n",
            "the batch error is:  0.25430648127054356\n",
            "the batch error is:  0.16295336556054082\n",
            "the batch error is:  0.24255913010893973\n",
            "the batch error is:  0.15570123803685681\n",
            "the batch error is:  0.20320291623910877\n",
            "the batch error is:  0.19066288264267015\n",
            "the batch error is:  0.22018460481726257\n",
            "the batch error is:  0.20891705186837672\n",
            "the batch error is:  0.30844557740717693\n",
            "the batch error is:  0.21580507984270508\n",
            "the batch error is:  0.1465293212714271\n",
            "the batch error is:  0.14628185269602137\n",
            "the batch error is:  0.19927438914153828\n",
            "the batch error is:  0.15514246413671567\n",
            "the batch error is:  0.20575229557688648\n",
            "the batch error is:  0.19964508604358855\n",
            "the batch error is:  0.20816574647426533\n",
            "the batch error is:  0.17454708405195288\n",
            "the batch error is:  0.271978417926482\n",
            "the batch error is:  0.18943809386569718\n",
            "the batch error is:  0.20608876811239124\n",
            "the batch error is:  0.20269750531140607\n",
            "the batch error is:  0.15506141559702086\n",
            "the batch error is:  0.1587681197032692\n",
            "the batch error is:  0.24940395493703885\n",
            "the batch error is:  0.23840378121915676\n",
            "the batch error is:  0.2377557084837426\n",
            "the batch error is:  0.2384306674650726\n",
            "the batch error is:  0.1765617781048094\n",
            "the batch error is:  0.20983518748425276\n",
            "the batch error is:  0.2508717847183872\n",
            "the batch error is:  0.2234627528479885\n",
            "the batch error is:  0.19693756077398406\n",
            "the batch error is:  0.18279359867128236\n",
            "the batch error is:  0.19238824795636705\n",
            "the batch error is:  0.26397193251344425\n",
            "the batch error is:  0.23445780235513397\n",
            "the batch error is:  0.34563527475983924\n",
            "the batch error is:  0.2003325970698647\n",
            "the batch error is:  0.18174709648503484\n",
            "the batch error is:  0.2407410326884923\n",
            "the batch error is:  0.15385937187747623\n",
            "the batch error is:  0.2279167429831004\n",
            "the batch error is:  0.17052315108439725\n",
            "the batch error is:  0.16403045894510368\n",
            "the batch error is:  0.19091723973280034\n",
            "the batch error is:  0.1500306593959329\n",
            "the batch error is:  0.17906760456842033\n",
            "the batch error is:  0.2837314941731834\n",
            "the batch error is:  0.2620744449494923\n",
            "the batch error is:  0.2913693592336216\n",
            "the batch error is:  0.22321611896234927\n",
            "the batch error is:  0.148714670594883\n",
            "the batch error is:  0.23924492792305968\n",
            "the batch error is:  0.16013746324100583\n",
            "the batch error is:  0.21854686689222041\n",
            "the batch error is:  0.31154195712511606\n",
            "the batch error is:  0.17881862301645735\n",
            "the batch error is:  0.2077622824510693\n",
            "the batch error is:  0.255502048443105\n",
            "the batch error is:  0.2240475546606876\n",
            "the batch error is:  0.13236391717283877\n",
            "the batch error is:  0.20206044445288712\n",
            "the batch error is:  0.16036150590837678\n",
            "the batch error is:  0.18308877791614833\n",
            "the batch error is:  0.1801947564899567\n",
            "the batch error is:  0.2686595100531287\n",
            "the batch error is:  0.20403970452458478\n",
            "the batch error is:  0.19293485531154647\n",
            "the batch error is:  0.2255241308415618\n",
            "the batch error is:  0.19653259358442093\n",
            "the batch error is:  0.2681281420767767\n",
            "the batch error is:  0.2724725112781171\n",
            "the batch error is:  0.1848418505003608\n",
            "the batch error is:  0.20748849641797776\n",
            "the batch error is:  0.24943885998355386\n",
            "the batch error is:  0.13370166266017264\n",
            "the batch error is:  0.1386133286046991\n",
            "the batch error is:  0.18324751328945715\n",
            "the batch error is:  0.22025089600704642\n",
            "the batch error is:  0.14972906661921856\n",
            "the batch error is:  0.17565275989296972\n",
            "the batch error is:  0.2351601878780103\n",
            "the batch error is:  0.2799589656359054\n",
            "the batch error is:  0.30112926132912876\n",
            "the batch error is:  0.1927164123075688\n",
            "the batch error is:  0.1611350987776382\n",
            "the batch error is:  0.2256079517220628\n",
            "the batch error is:  0.26147396956930036\n",
            "the batch error is:  0.160654058604136\n",
            "the batch error is:  0.16308204271357124\n",
            "the batch error is:  0.18514985084882551\n",
            "the batch error is:  0.22461271321642948\n",
            "the batch error is:  0.1557596282362396\n",
            "the batch error is:  0.21846252260136853\n",
            "the batch error is:  0.23514863665083274\n",
            "the batch error is:  0.17714916751054172\n",
            "the batch error is:  0.19913563844194027\n",
            "the batch error is:  0.24762780518997743\n",
            "the batch error is:  0.27716029522485675\n",
            "the batch error is:  0.1849218725507878\n",
            "the batch error is:  0.2150689578397251\n",
            "the batch error is:  0.1837945458634625\n",
            "the batch error is:  0.2107566825232839\n",
            "the batch error is:  0.17152009443540336\n",
            "the batch error is:  0.17729669661043715\n",
            "the batch error is:  0.16189414036757077\n",
            "the batch error is:  0.17809118754311815\n",
            "the batch error is:  0.13445724378938073\n",
            "the batch error is:  0.2809411213693222\n",
            "the batch error is:  0.15004752923148698\n",
            "the batch error is:  0.1876524595291321\n",
            "the batch error is:  0.28088277976970444\n",
            "the batch error is:  0.22457979657733967\n",
            "the batch error is:  0.19695632676638947\n",
            "the batch error is:  0.2557831676819808\n"
          ]
        }
      ]
    },
    {
      "cell_type": "code",
      "source": [
        "predicted = []\n",
        "for i in data:\n",
        "  l = n.predict(i).reshape(n.shape[-1])\n",
        "  l[l<max(l)] = 0\n",
        "  l[l>=max(l)] = 1\n",
        "  \n",
        "  predicted.append(l)\n",
        "predicted = np.array(predicted)\n",
        "print(predicted)"
      ],
      "metadata": {
        "colab": {
          "base_uri": "https://localhost:8080/"
        },
        "id": "k_XvRlqlrYpc",
        "outputId": "fe0fe4dd-adcb-4e24-acc9-be9b426edec8"
      },
      "execution_count": 21,
      "outputs": [
        {
          "output_type": "stream",
          "name": "stdout",
          "text": [
            "[[0. 1.]\n",
            " [0. 1.]\n",
            " [0. 1.]\n",
            " ...\n",
            " [1. 0.]\n",
            " [1. 0.]\n",
            " [1. 0.]]\n"
          ]
        }
      ]
    },
    {
      "cell_type": "code",
      "source": [
        "plt.plot(np.linspace(0,1,len(u)),u)"
      ],
      "metadata": {
        "colab": {
          "base_uri": "https://localhost:8080/",
          "height": 282
        },
        "id": "3w5SYNbFrd8-",
        "outputId": "12d35d6d-f9fb-44b0-daa9-63413b1123c2"
      },
      "execution_count": 22,
      "outputs": [
        {
          "output_type": "execute_result",
          "data": {
            "text/plain": [
              "[<matplotlib.lines.Line2D at 0x7f1529938bb0>]"
            ]
          },
          "metadata": {},
          "execution_count": 22
        },
        {
          "output_type": "display_data",
          "data": {
            "text/plain": [
              "<Figure size 432x288 with 1 Axes>"
            ],
            "image/png": "[encoded data removed]"
          },
          "metadata": {
            "needs_background": "light"
          }
        }
      ]
    },
    {
      "cell_type": "code",
      "source": [
        "plt.scatter(data[:,0], data[:,1], c=predicted[:,0])"
      ],
      "metadata": {
        "colab": {
          "base_uri": "https://localhost:8080/",
          "height": 282
        },
        "id": "0DL_ziPnrgEo",
        "outputId": "f3a51610-a82d-41e8-ecea-f0eaa603d0d1"
      },
      "execution_count": 23,
      "outputs": [
        {
          "output_type": "execute_result",
          "data": {
            "text/plain": [
              "<matplotlib.collections.PathCollection at 0x7f1529a89e50>"
            ]
          },
          "metadata": {},
          "execution_count": 23
        },
        {
          "output_type": "display_data",
          "data": {
            "text/plain": [
              "<Figure size 432x288 with 1 Axes>"
            ],
            "image/png": "[encoded data removed]"
          },
          "metadata": {
            "needs_background": "light"
          }
        }
      ]
    },
    {
      "cell_type": "code",
      "source": [],
      "metadata": {
        "id": "YpGpIY02sp_0"
      },
      "execution_count": 23,
      "outputs": []
    }
  ]
}